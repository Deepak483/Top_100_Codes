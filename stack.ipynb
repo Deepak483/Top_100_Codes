{
 "cells": [
  {
   "cell_type": "code",
   "execution_count": 12,
   "metadata": {},
   "outputs": [],
   "source": [
    "from collections import deque\n",
    "class Stack:\n",
    "    \n",
    "    def __init__(self):\n",
    "        self.container = deque()\n",
    "    \n",
    "    def push(self,value):\n",
    "        self.container.append(value)\n",
    "    \n",
    "    def pop(self):\n",
    "        self.container.pop()\n",
    "    \n",
    "    def peek(self):\n",
    "        return self.container[-1]\n",
    "    \n",
    "    def size(self):\n",
    "        return len(self.container)\n",
    "\n",
    "    def isEmpty(self):\n",
    "        return len(self.container)==0"
   ]
  },
  {
   "cell_type": "code",
   "execution_count": 14,
   "metadata": {},
   "outputs": [],
   "source": [
    "st = Stack()\n",
    "st.push(22)\n"
   ]
  },
  {
   "cell_type": "code",
   "execution_count": 23,
   "metadata": {},
   "outputs": [
    {
     "data": {
      "text/plain": [
       "<__main__.Stack at 0x1f7c22aabe0>"
      ]
     },
     "execution_count": 23,
     "metadata": {},
     "output_type": "execute_result"
    }
   ],
   "source": [
    "st.peek()\n",
    "st.push(78)\n",
    "st.pop()\n"
   ]
  }
 ],
 "metadata": {
  "interpreter": {
   "hash": "c9ece4cc10c8c40d88be575fa504858b485487e608044b9396bb3b0ab3c59a69"
  },
  "kernelspec": {
   "display_name": "Python 3.9.6 64-bit",
   "language": "python",
   "name": "python3"
  },
  "language_info": {
   "codemirror_mode": {
    "name": "ipython",
    "version": 3
   },
   "file_extension": ".py",
   "mimetype": "text/x-python",
   "name": "python",
   "nbconvert_exporter": "python",
   "pygments_lexer": "ipython3",
   "version": "3.9.6"
  },
  "orig_nbformat": 4
 },
 "nbformat": 4,
 "nbformat_minor": 2
}
